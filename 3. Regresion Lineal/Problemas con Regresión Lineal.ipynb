{
 "cells": [
  {
   "cell_type": "markdown",
   "metadata": {},
   "source": [
    "## El tratamiento de las variables categóricas"
   ]
  },
  {
   "cell_type": "code",
   "execution_count": 11,
   "metadata": {},
   "outputs": [],
   "source": [
    "import pandas as pd\n",
    "import numpy as np\n",
    "from sklearn.linear_model import LinearRegression"
   ]
  },
  {
   "cell_type": "code",
   "execution_count": 3,
   "metadata": {},
   "outputs": [],
   "source": [
    "df = pd.read_csv(\"../datasets/ecom-expense/Ecom Expense.csv\")"
   ]
  },
  {
   "cell_type": "code",
   "execution_count": 4,
   "metadata": {},
   "outputs": [
    {
     "data": {
      "text/html": [
       "<div>\n",
       "<style scoped>\n",
       "    .dataframe tbody tr th:only-of-type {\n",
       "        vertical-align: middle;\n",
       "    }\n",
       "\n",
       "    .dataframe tbody tr th {\n",
       "        vertical-align: top;\n",
       "    }\n",
       "\n",
       "    .dataframe thead th {\n",
       "        text-align: right;\n",
       "    }\n",
       "</style>\n",
       "<table border=\"1\" class=\"dataframe\">\n",
       "  <thead>\n",
       "    <tr style=\"text-align: right;\">\n",
       "      <th></th>\n",
       "      <th>Transaction ID</th>\n",
       "      <th>Age</th>\n",
       "      <th>Items</th>\n",
       "      <th>Monthly Income</th>\n",
       "      <th>Transaction Time</th>\n",
       "      <th>Record</th>\n",
       "      <th>Gender</th>\n",
       "      <th>City Tier</th>\n",
       "      <th>Total Spend</th>\n",
       "    </tr>\n",
       "  </thead>\n",
       "  <tbody>\n",
       "    <tr>\n",
       "      <th>0</th>\n",
       "      <td>TXN001</td>\n",
       "      <td>42</td>\n",
       "      <td>10</td>\n",
       "      <td>7313</td>\n",
       "      <td>627.668127</td>\n",
       "      <td>5</td>\n",
       "      <td>Female</td>\n",
       "      <td>Tier 1</td>\n",
       "      <td>4198.385084</td>\n",
       "    </tr>\n",
       "    <tr>\n",
       "      <th>1</th>\n",
       "      <td>TXN002</td>\n",
       "      <td>24</td>\n",
       "      <td>8</td>\n",
       "      <td>17747</td>\n",
       "      <td>126.904567</td>\n",
       "      <td>3</td>\n",
       "      <td>Female</td>\n",
       "      <td>Tier 2</td>\n",
       "      <td>4134.976648</td>\n",
       "    </tr>\n",
       "    <tr>\n",
       "      <th>2</th>\n",
       "      <td>TXN003</td>\n",
       "      <td>47</td>\n",
       "      <td>11</td>\n",
       "      <td>22845</td>\n",
       "      <td>873.469701</td>\n",
       "      <td>2</td>\n",
       "      <td>Male</td>\n",
       "      <td>Tier 2</td>\n",
       "      <td>5166.614455</td>\n",
       "    </tr>\n",
       "    <tr>\n",
       "      <th>3</th>\n",
       "      <td>TXN004</td>\n",
       "      <td>50</td>\n",
       "      <td>11</td>\n",
       "      <td>18552</td>\n",
       "      <td>380.219428</td>\n",
       "      <td>7</td>\n",
       "      <td>Female</td>\n",
       "      <td>Tier 1</td>\n",
       "      <td>7784.447676</td>\n",
       "    </tr>\n",
       "    <tr>\n",
       "      <th>4</th>\n",
       "      <td>TXN005</td>\n",
       "      <td>60</td>\n",
       "      <td>2</td>\n",
       "      <td>14439</td>\n",
       "      <td>403.374223</td>\n",
       "      <td>2</td>\n",
       "      <td>Female</td>\n",
       "      <td>Tier 2</td>\n",
       "      <td>3254.160485</td>\n",
       "    </tr>\n",
       "  </tbody>\n",
       "</table>\n",
       "</div>"
      ],
      "text/plain": [
       "  Transaction ID  Age    Items   Monthly Income  Transaction Time  Record  \\\n",
       "0         TXN001    42       10            7313        627.668127       5   \n",
       "1         TXN002    24        8           17747        126.904567       3   \n",
       "2         TXN003    47       11           22845        873.469701       2   \n",
       "3         TXN004    50       11           18552        380.219428       7   \n",
       "4         TXN005    60        2           14439        403.374223       2   \n",
       "\n",
       "   Gender City Tier  Total Spend  \n",
       "0  Female    Tier 1  4198.385084  \n",
       "1  Female    Tier 2  4134.976648  \n",
       "2    Male    Tier 2  5166.614455  \n",
       "3  Female    Tier 1  7784.447676  \n",
       "4  Female    Tier 2  3254.160485  "
      ]
     },
     "execution_count": 4,
     "metadata": {},
     "output_type": "execute_result"
    }
   ],
   "source": [
    "df.head()"
   ]
  },
  {
   "cell_type": "markdown",
   "metadata": {},
   "source": [
    "Es una aplicación de Big Data para la parte financiera mas que todo se trata de comparar diferentes comportamientos de usuarios"
   ]
  },
  {
   "cell_type": "code",
   "execution_count": 5,
   "metadata": {},
   "outputs": [],
   "source": [
    "dummy_gender = pd.get_dummies(df[\"Gender\"], prefix=\"Gender\")"
   ]
  },
  {
   "cell_type": "code",
   "execution_count": 6,
   "metadata": {},
   "outputs": [],
   "source": [
    "dummy_city_tier= pd.get_dummies(df[\"City Tier\"], prefix=\"City\")"
   ]
  },
  {
   "cell_type": "code",
   "execution_count": 7,
   "metadata": {},
   "outputs": [
    {
     "data": {
      "text/html": [
       "<div>\n",
       "<style scoped>\n",
       "    .dataframe tbody tr th:only-of-type {\n",
       "        vertical-align: middle;\n",
       "    }\n",
       "\n",
       "    .dataframe tbody tr th {\n",
       "        vertical-align: top;\n",
       "    }\n",
       "\n",
       "    .dataframe thead th {\n",
       "        text-align: right;\n",
       "    }\n",
       "</style>\n",
       "<table border=\"1\" class=\"dataframe\">\n",
       "  <thead>\n",
       "    <tr style=\"text-align: right;\">\n",
       "      <th></th>\n",
       "      <th>Gender_Female</th>\n",
       "      <th>Gender_Male</th>\n",
       "    </tr>\n",
       "  </thead>\n",
       "  <tbody>\n",
       "    <tr>\n",
       "      <th>0</th>\n",
       "      <td>1</td>\n",
       "      <td>0</td>\n",
       "    </tr>\n",
       "    <tr>\n",
       "      <th>1</th>\n",
       "      <td>1</td>\n",
       "      <td>0</td>\n",
       "    </tr>\n",
       "    <tr>\n",
       "      <th>2</th>\n",
       "      <td>0</td>\n",
       "      <td>1</td>\n",
       "    </tr>\n",
       "    <tr>\n",
       "      <th>3</th>\n",
       "      <td>1</td>\n",
       "      <td>0</td>\n",
       "    </tr>\n",
       "    <tr>\n",
       "      <th>4</th>\n",
       "      <td>1</td>\n",
       "      <td>0</td>\n",
       "    </tr>\n",
       "  </tbody>\n",
       "</table>\n",
       "</div>"
      ],
      "text/plain": [
       "   Gender_Female  Gender_Male\n",
       "0              1            0\n",
       "1              1            0\n",
       "2              0            1\n",
       "3              1            0\n",
       "4              1            0"
      ]
     },
     "execution_count": 7,
     "metadata": {},
     "output_type": "execute_result"
    }
   ],
   "source": [
    "dummy_gender.head()"
   ]
  },
  {
   "cell_type": "code",
   "execution_count": 8,
   "metadata": {},
   "outputs": [
    {
     "data": {
      "text/html": [
       "<div>\n",
       "<style scoped>\n",
       "    .dataframe tbody tr th:only-of-type {\n",
       "        vertical-align: middle;\n",
       "    }\n",
       "\n",
       "    .dataframe tbody tr th {\n",
       "        vertical-align: top;\n",
       "    }\n",
       "\n",
       "    .dataframe thead th {\n",
       "        text-align: right;\n",
       "    }\n",
       "</style>\n",
       "<table border=\"1\" class=\"dataframe\">\n",
       "  <thead>\n",
       "    <tr style=\"text-align: right;\">\n",
       "      <th></th>\n",
       "      <th>City_Tier 1</th>\n",
       "      <th>City_Tier 2</th>\n",
       "      <th>City_Tier 3</th>\n",
       "    </tr>\n",
       "  </thead>\n",
       "  <tbody>\n",
       "    <tr>\n",
       "      <th>0</th>\n",
       "      <td>1</td>\n",
       "      <td>0</td>\n",
       "      <td>0</td>\n",
       "    </tr>\n",
       "    <tr>\n",
       "      <th>1</th>\n",
       "      <td>0</td>\n",
       "      <td>1</td>\n",
       "      <td>0</td>\n",
       "    </tr>\n",
       "    <tr>\n",
       "      <th>2</th>\n",
       "      <td>0</td>\n",
       "      <td>1</td>\n",
       "      <td>0</td>\n",
       "    </tr>\n",
       "    <tr>\n",
       "      <th>3</th>\n",
       "      <td>1</td>\n",
       "      <td>0</td>\n",
       "      <td>0</td>\n",
       "    </tr>\n",
       "    <tr>\n",
       "      <th>4</th>\n",
       "      <td>0</td>\n",
       "      <td>1</td>\n",
       "      <td>0</td>\n",
       "    </tr>\n",
       "  </tbody>\n",
       "</table>\n",
       "</div>"
      ],
      "text/plain": [
       "   City_Tier 1  City_Tier 2  City_Tier 3\n",
       "0            1            0            0\n",
       "1            0            1            0\n",
       "2            0            1            0\n",
       "3            1            0            0\n",
       "4            0            1            0"
      ]
     },
     "execution_count": 8,
     "metadata": {},
     "output_type": "execute_result"
    }
   ],
   "source": [
    "dummy_city_tier.head()"
   ]
  },
  {
   "cell_type": "code",
   "execution_count": 10,
   "metadata": {},
   "outputs": [
    {
     "data": {
      "text/plain": [
       "['Transaction ID',\n",
       " 'Age ',\n",
       " ' Items ',\n",
       " 'Monthly Income',\n",
       " 'Transaction Time',\n",
       " 'Record',\n",
       " 'Gender',\n",
       " 'City Tier',\n",
       " 'Total Spend']"
      ]
     },
     "execution_count": 10,
     "metadata": {},
     "output_type": "execute_result"
    }
   ],
   "source": [
    "column_names = df.columns.values.tolist()\n",
    "column_names"
   ]
  },
  {
   "cell_type": "code",
   "execution_count": 11,
   "metadata": {},
   "outputs": [
    {
     "data": {
      "text/html": [
       "<div>\n",
       "<style scoped>\n",
       "    .dataframe tbody tr th:only-of-type {\n",
       "        vertical-align: middle;\n",
       "    }\n",
       "\n",
       "    .dataframe tbody tr th {\n",
       "        vertical-align: top;\n",
       "    }\n",
       "\n",
       "    .dataframe thead th {\n",
       "        text-align: right;\n",
       "    }\n",
       "</style>\n",
       "<table border=\"1\" class=\"dataframe\">\n",
       "  <thead>\n",
       "    <tr style=\"text-align: right;\">\n",
       "      <th></th>\n",
       "      <th>Transaction ID</th>\n",
       "      <th>Age</th>\n",
       "      <th>Items</th>\n",
       "      <th>Monthly Income</th>\n",
       "      <th>Transaction Time</th>\n",
       "      <th>Record</th>\n",
       "      <th>Gender</th>\n",
       "      <th>City Tier</th>\n",
       "      <th>Total Spend</th>\n",
       "      <th>Gender_Female</th>\n",
       "      <th>Gender_Male</th>\n",
       "    </tr>\n",
       "  </thead>\n",
       "  <tbody>\n",
       "    <tr>\n",
       "      <th>0</th>\n",
       "      <td>TXN001</td>\n",
       "      <td>42</td>\n",
       "      <td>10</td>\n",
       "      <td>7313</td>\n",
       "      <td>627.668127</td>\n",
       "      <td>5</td>\n",
       "      <td>Female</td>\n",
       "      <td>Tier 1</td>\n",
       "      <td>4198.385084</td>\n",
       "      <td>1</td>\n",
       "      <td>0</td>\n",
       "    </tr>\n",
       "    <tr>\n",
       "      <th>1</th>\n",
       "      <td>TXN002</td>\n",
       "      <td>24</td>\n",
       "      <td>8</td>\n",
       "      <td>17747</td>\n",
       "      <td>126.904567</td>\n",
       "      <td>3</td>\n",
       "      <td>Female</td>\n",
       "      <td>Tier 2</td>\n",
       "      <td>4134.976648</td>\n",
       "      <td>1</td>\n",
       "      <td>0</td>\n",
       "    </tr>\n",
       "    <tr>\n",
       "      <th>2</th>\n",
       "      <td>TXN003</td>\n",
       "      <td>47</td>\n",
       "      <td>11</td>\n",
       "      <td>22845</td>\n",
       "      <td>873.469701</td>\n",
       "      <td>2</td>\n",
       "      <td>Male</td>\n",
       "      <td>Tier 2</td>\n",
       "      <td>5166.614455</td>\n",
       "      <td>0</td>\n",
       "      <td>1</td>\n",
       "    </tr>\n",
       "    <tr>\n",
       "      <th>3</th>\n",
       "      <td>TXN004</td>\n",
       "      <td>50</td>\n",
       "      <td>11</td>\n",
       "      <td>18552</td>\n",
       "      <td>380.219428</td>\n",
       "      <td>7</td>\n",
       "      <td>Female</td>\n",
       "      <td>Tier 1</td>\n",
       "      <td>7784.447676</td>\n",
       "      <td>1</td>\n",
       "      <td>0</td>\n",
       "    </tr>\n",
       "    <tr>\n",
       "      <th>4</th>\n",
       "      <td>TXN005</td>\n",
       "      <td>60</td>\n",
       "      <td>2</td>\n",
       "      <td>14439</td>\n",
       "      <td>403.374223</td>\n",
       "      <td>2</td>\n",
       "      <td>Female</td>\n",
       "      <td>Tier 2</td>\n",
       "      <td>3254.160485</td>\n",
       "      <td>1</td>\n",
       "      <td>0</td>\n",
       "    </tr>\n",
       "  </tbody>\n",
       "</table>\n",
       "</div>"
      ],
      "text/plain": [
       "  Transaction ID  Age    Items   Monthly Income  Transaction Time  Record  \\\n",
       "0         TXN001    42       10            7313        627.668127       5   \n",
       "1         TXN002    24        8           17747        126.904567       3   \n",
       "2         TXN003    47       11           22845        873.469701       2   \n",
       "3         TXN004    50       11           18552        380.219428       7   \n",
       "4         TXN005    60        2           14439        403.374223       2   \n",
       "\n",
       "   Gender City Tier  Total Spend  Gender_Female  Gender_Male  \n",
       "0  Female    Tier 1  4198.385084              1            0  \n",
       "1  Female    Tier 2  4134.976648              1            0  \n",
       "2    Male    Tier 2  5166.614455              0            1  \n",
       "3  Female    Tier 1  7784.447676              1            0  \n",
       "4  Female    Tier 2  3254.160485              1            0  "
      ]
     },
     "execution_count": 11,
     "metadata": {},
     "output_type": "execute_result"
    }
   ],
   "source": [
    "df_new = df[column_names].join(dummy_gender)\n",
    "column_names = df_new.columns.values.tolist()\n",
    "df_new.head()"
   ]
  },
  {
   "cell_type": "code",
   "execution_count": 12,
   "metadata": {},
   "outputs": [
    {
     "data": {
      "text/html": [
       "<div>\n",
       "<style scoped>\n",
       "    .dataframe tbody tr th:only-of-type {\n",
       "        vertical-align: middle;\n",
       "    }\n",
       "\n",
       "    .dataframe tbody tr th {\n",
       "        vertical-align: top;\n",
       "    }\n",
       "\n",
       "    .dataframe thead th {\n",
       "        text-align: right;\n",
       "    }\n",
       "</style>\n",
       "<table border=\"1\" class=\"dataframe\">\n",
       "  <thead>\n",
       "    <tr style=\"text-align: right;\">\n",
       "      <th></th>\n",
       "      <th>Transaction ID</th>\n",
       "      <th>Age</th>\n",
       "      <th>Items</th>\n",
       "      <th>Monthly Income</th>\n",
       "      <th>Transaction Time</th>\n",
       "      <th>Record</th>\n",
       "      <th>Gender</th>\n",
       "      <th>City Tier</th>\n",
       "      <th>Total Spend</th>\n",
       "      <th>Gender_Female</th>\n",
       "      <th>Gender_Male</th>\n",
       "      <th>City_Tier 1</th>\n",
       "      <th>City_Tier 2</th>\n",
       "      <th>City_Tier 3</th>\n",
       "    </tr>\n",
       "  </thead>\n",
       "  <tbody>\n",
       "    <tr>\n",
       "      <th>0</th>\n",
       "      <td>TXN001</td>\n",
       "      <td>42</td>\n",
       "      <td>10</td>\n",
       "      <td>7313</td>\n",
       "      <td>627.668127</td>\n",
       "      <td>5</td>\n",
       "      <td>Female</td>\n",
       "      <td>Tier 1</td>\n",
       "      <td>4198.385084</td>\n",
       "      <td>1</td>\n",
       "      <td>0</td>\n",
       "      <td>1</td>\n",
       "      <td>0</td>\n",
       "      <td>0</td>\n",
       "    </tr>\n",
       "    <tr>\n",
       "      <th>1</th>\n",
       "      <td>TXN002</td>\n",
       "      <td>24</td>\n",
       "      <td>8</td>\n",
       "      <td>17747</td>\n",
       "      <td>126.904567</td>\n",
       "      <td>3</td>\n",
       "      <td>Female</td>\n",
       "      <td>Tier 2</td>\n",
       "      <td>4134.976648</td>\n",
       "      <td>1</td>\n",
       "      <td>0</td>\n",
       "      <td>0</td>\n",
       "      <td>1</td>\n",
       "      <td>0</td>\n",
       "    </tr>\n",
       "    <tr>\n",
       "      <th>2</th>\n",
       "      <td>TXN003</td>\n",
       "      <td>47</td>\n",
       "      <td>11</td>\n",
       "      <td>22845</td>\n",
       "      <td>873.469701</td>\n",
       "      <td>2</td>\n",
       "      <td>Male</td>\n",
       "      <td>Tier 2</td>\n",
       "      <td>5166.614455</td>\n",
       "      <td>0</td>\n",
       "      <td>1</td>\n",
       "      <td>0</td>\n",
       "      <td>1</td>\n",
       "      <td>0</td>\n",
       "    </tr>\n",
       "    <tr>\n",
       "      <th>3</th>\n",
       "      <td>TXN004</td>\n",
       "      <td>50</td>\n",
       "      <td>11</td>\n",
       "      <td>18552</td>\n",
       "      <td>380.219428</td>\n",
       "      <td>7</td>\n",
       "      <td>Female</td>\n",
       "      <td>Tier 1</td>\n",
       "      <td>7784.447676</td>\n",
       "      <td>1</td>\n",
       "      <td>0</td>\n",
       "      <td>1</td>\n",
       "      <td>0</td>\n",
       "      <td>0</td>\n",
       "    </tr>\n",
       "    <tr>\n",
       "      <th>4</th>\n",
       "      <td>TXN005</td>\n",
       "      <td>60</td>\n",
       "      <td>2</td>\n",
       "      <td>14439</td>\n",
       "      <td>403.374223</td>\n",
       "      <td>2</td>\n",
       "      <td>Female</td>\n",
       "      <td>Tier 2</td>\n",
       "      <td>3254.160485</td>\n",
       "      <td>1</td>\n",
       "      <td>0</td>\n",
       "      <td>0</td>\n",
       "      <td>1</td>\n",
       "      <td>0</td>\n",
       "    </tr>\n",
       "  </tbody>\n",
       "</table>\n",
       "</div>"
      ],
      "text/plain": [
       "  Transaction ID  Age    Items   Monthly Income  Transaction Time  Record  \\\n",
       "0         TXN001    42       10            7313        627.668127       5   \n",
       "1         TXN002    24        8           17747        126.904567       3   \n",
       "2         TXN003    47       11           22845        873.469701       2   \n",
       "3         TXN004    50       11           18552        380.219428       7   \n",
       "4         TXN005    60        2           14439        403.374223       2   \n",
       "\n",
       "   Gender City Tier  Total Spend  Gender_Female  Gender_Male  City_Tier 1  \\\n",
       "0  Female    Tier 1  4198.385084              1            0            1   \n",
       "1  Female    Tier 2  4134.976648              1            0            0   \n",
       "2    Male    Tier 2  5166.614455              0            1            0   \n",
       "3  Female    Tier 1  7784.447676              1            0            1   \n",
       "4  Female    Tier 2  3254.160485              1            0            0   \n",
       "\n",
       "   City_Tier 2  City_Tier 3  \n",
       "0            0            0  \n",
       "1            1            0  \n",
       "2            1            0  \n",
       "3            0            0  \n",
       "4            1            0  "
      ]
     },
     "execution_count": 12,
     "metadata": {},
     "output_type": "execute_result"
    }
   ],
   "source": [
    "df_new = df_new[column_names].join(dummy_city_tier)\n",
    "df_new.head()"
   ]
  },
  {
   "cell_type": "code",
   "execution_count": 23,
   "metadata": {},
   "outputs": [],
   "source": [
    "feature_cols = [\"Monthly Income\", \"Transaction Time\",\"Gender_Female\",\"Gender_Male\",\n",
    "                \"City_Tier 1\",\"City_Tier 2\",\"City_Tier 3\",\"Record\"]"
   ]
  },
  {
   "cell_type": "code",
   "execution_count": 24,
   "metadata": {},
   "outputs": [],
   "source": [
    "X = df_new[feature_cols]\n",
    "Y = df_new[\"Total Spend\"]"
   ]
  },
  {
   "cell_type": "code",
   "execution_count": 25,
   "metadata": {},
   "outputs": [],
   "source": [
    "lm = LinearRegression()"
   ]
  },
  {
   "cell_type": "code",
   "execution_count": 26,
   "metadata": {},
   "outputs": [
    {
     "data": {
      "text/plain": [
       "LinearRegression(copy_X=True, fit_intercept=True, n_jobs=None,\n",
       "         normalize=False)"
      ]
     },
     "execution_count": 26,
     "metadata": {},
     "output_type": "execute_result"
    }
   ],
   "source": [
    "lm.fit(X,Y)"
   ]
  },
  {
   "cell_type": "code",
   "execution_count": 27,
   "metadata": {},
   "outputs": [
    {
     "data": {
      "text/plain": [
       "-79.4171303013718"
      ]
     },
     "execution_count": 27,
     "metadata": {},
     "output_type": "execute_result"
    }
   ],
   "source": [
    "lm.intercept_ #Corte con eje de ordenadas"
   ]
  },
  {
   "cell_type": "code",
   "execution_count": 28,
   "metadata": {},
   "outputs": [
    {
     "data": {
      "text/plain": [
       "array([ 1.47538980e-01,  1.54946125e-01, -1.31025013e+02,  1.31025013e+02,\n",
       "        7.67643260e+01,  5.51389743e+01, -1.31903300e+02,  7.72233446e+02])"
      ]
     },
     "execution_count": 28,
     "metadata": {},
     "output_type": "execute_result"
    }
   ],
   "source": [
    "lm.coef_ #Coeficientes para las variables"
   ]
  },
  {
   "cell_type": "code",
   "execution_count": 29,
   "metadata": {},
   "outputs": [
    {
     "data": {
      "text/plain": [
       "[('Monthly Income', 0.14753898049205738),\n",
       " ('Transaction Time', 0.15494612549589634),\n",
       " ('Gender_Female', -131.02501325554624),\n",
       " ('Gender_Male', 131.02501325554607),\n",
       " ('City_Tier 1', 76.76432601049513),\n",
       " ('City_Tier 2', 55.1389743092325),\n",
       " ('City_Tier 3', -131.9033003197277),\n",
       " ('Record', 772.2334457445645)]"
      ]
     },
     "execution_count": 29,
     "metadata": {},
     "output_type": "execute_result"
    }
   ],
   "source": [
    "list(zip(feature_cols, lm.coef_))"
   ]
  },
  {
   "cell_type": "code",
   "execution_count": 31,
   "metadata": {},
   "outputs": [
    {
     "data": {
      "text/plain": [
       "0.9179923586131016"
      ]
     },
     "execution_count": 31,
     "metadata": {},
     "output_type": "execute_result"
    }
   ],
   "source": [
    "lm.score(X,Y) #Valor de score representa el R cuadrado, que va de 0 a 1\n",
    "# Por lo cual teniendo valores de .90 para arriba es un buen modelo"
   ]
  },
  {
   "cell_type": "code",
   "execution_count": 33,
   "metadata": {},
   "outputs": [],
   "source": [
    "df_new[\"prediction\"] = -79.4171303013718 + df_new[\"Monthly Income\"]*0.14753898049205738 + df_new[\"Transaction Time\"]*0.15494612549589634 + df_new[\"Gender_Female\"]*-131.02501325554624 + df_new[\"Gender_Male\"]*131.02501325554624 + df_new[\"City_Tier 1\"]*76.76432601049513 + df_new[\"City_Tier 2\"]*55.1389743092325 + df_new[\"City_Tier 3\"]*-131.9033003197277 + df_new[\"Record\"]*772.2334457445645"
   ]
  },
  {
   "cell_type": "code",
   "execution_count": 34,
   "metadata": {},
   "outputs": [
    {
     "data": {
      "text/html": [
       "<div>\n",
       "<style scoped>\n",
       "    .dataframe tbody tr th:only-of-type {\n",
       "        vertical-align: middle;\n",
       "    }\n",
       "\n",
       "    .dataframe tbody tr th {\n",
       "        vertical-align: top;\n",
       "    }\n",
       "\n",
       "    .dataframe thead th {\n",
       "        text-align: right;\n",
       "    }\n",
       "</style>\n",
       "<table border=\"1\" class=\"dataframe\">\n",
       "  <thead>\n",
       "    <tr style=\"text-align: right;\">\n",
       "      <th></th>\n",
       "      <th>Transaction ID</th>\n",
       "      <th>Age</th>\n",
       "      <th>Items</th>\n",
       "      <th>Monthly Income</th>\n",
       "      <th>Transaction Time</th>\n",
       "      <th>Record</th>\n",
       "      <th>Gender</th>\n",
       "      <th>City Tier</th>\n",
       "      <th>Total Spend</th>\n",
       "      <th>Gender_Female</th>\n",
       "      <th>Gender_Male</th>\n",
       "      <th>City_Tier 1</th>\n",
       "      <th>City_Tier 2</th>\n",
       "      <th>City_Tier 3</th>\n",
       "      <th>prediction</th>\n",
       "    </tr>\n",
       "  </thead>\n",
       "  <tbody>\n",
       "    <tr>\n",
       "      <th>0</th>\n",
       "      <td>TXN001</td>\n",
       "      <td>42</td>\n",
       "      <td>10</td>\n",
       "      <td>7313</td>\n",
       "      <td>627.668127</td>\n",
       "      <td>5</td>\n",
       "      <td>Female</td>\n",
       "      <td>Tier 1</td>\n",
       "      <td>4198.385084</td>\n",
       "      <td>1</td>\n",
       "      <td>0</td>\n",
       "      <td>1</td>\n",
       "      <td>0</td>\n",
       "      <td>0</td>\n",
       "      <td>4903.696720</td>\n",
       "    </tr>\n",
       "    <tr>\n",
       "      <th>1</th>\n",
       "      <td>TXN002</td>\n",
       "      <td>24</td>\n",
       "      <td>8</td>\n",
       "      <td>17747</td>\n",
       "      <td>126.904567</td>\n",
       "      <td>3</td>\n",
       "      <td>Female</td>\n",
       "      <td>Tier 2</td>\n",
       "      <td>4134.976648</td>\n",
       "      <td>1</td>\n",
       "      <td>0</td>\n",
       "      <td>0</td>\n",
       "      <td>1</td>\n",
       "      <td>0</td>\n",
       "      <td>4799.434826</td>\n",
       "    </tr>\n",
       "    <tr>\n",
       "      <th>2</th>\n",
       "      <td>TXN003</td>\n",
       "      <td>47</td>\n",
       "      <td>11</td>\n",
       "      <td>22845</td>\n",
       "      <td>873.469701</td>\n",
       "      <td>2</td>\n",
       "      <td>Male</td>\n",
       "      <td>Tier 2</td>\n",
       "      <td>5166.614455</td>\n",
       "      <td>0</td>\n",
       "      <td>1</td>\n",
       "      <td>0</td>\n",
       "      <td>1</td>\n",
       "      <td>0</td>\n",
       "      <td>5157.082504</td>\n",
       "    </tr>\n",
       "    <tr>\n",
       "      <th>3</th>\n",
       "      <td>TXN004</td>\n",
       "      <td>50</td>\n",
       "      <td>11</td>\n",
       "      <td>18552</td>\n",
       "      <td>380.219428</td>\n",
       "      <td>7</td>\n",
       "      <td>Female</td>\n",
       "      <td>Tier 1</td>\n",
       "      <td>7784.447676</td>\n",
       "      <td>1</td>\n",
       "      <td>0</td>\n",
       "      <td>1</td>\n",
       "      <td>0</td>\n",
       "      <td>0</td>\n",
       "      <td>8068.012996</td>\n",
       "    </tr>\n",
       "    <tr>\n",
       "      <th>4</th>\n",
       "      <td>TXN005</td>\n",
       "      <td>60</td>\n",
       "      <td>2</td>\n",
       "      <td>14439</td>\n",
       "      <td>403.374223</td>\n",
       "      <td>2</td>\n",
       "      <td>Female</td>\n",
       "      <td>Tier 2</td>\n",
       "      <td>3254.160485</td>\n",
       "      <td>1</td>\n",
       "      <td>0</td>\n",
       "      <td>0</td>\n",
       "      <td>1</td>\n",
       "      <td>0</td>\n",
       "      <td>3581.980335</td>\n",
       "    </tr>\n",
       "  </tbody>\n",
       "</table>\n",
       "</div>"
      ],
      "text/plain": [
       "  Transaction ID  Age    Items   Monthly Income  Transaction Time  Record  \\\n",
       "0         TXN001    42       10            7313        627.668127       5   \n",
       "1         TXN002    24        8           17747        126.904567       3   \n",
       "2         TXN003    47       11           22845        873.469701       2   \n",
       "3         TXN004    50       11           18552        380.219428       7   \n",
       "4         TXN005    60        2           14439        403.374223       2   \n",
       "\n",
       "   Gender City Tier  Total Spend  Gender_Female  Gender_Male  City_Tier 1  \\\n",
       "0  Female    Tier 1  4198.385084              1            0            1   \n",
       "1  Female    Tier 2  4134.976648              1            0            0   \n",
       "2    Male    Tier 2  5166.614455              0            1            0   \n",
       "3  Female    Tier 1  7784.447676              1            0            1   \n",
       "4  Female    Tier 2  3254.160485              1            0            0   \n",
       "\n",
       "   City_Tier 2  City_Tier 3   prediction  \n",
       "0            0            0  4903.696720  \n",
       "1            1            0  4799.434826  \n",
       "2            1            0  5157.082504  \n",
       "3            0            0  8068.012996  \n",
       "4            1            0  3581.980335  "
      ]
     },
     "execution_count": 34,
     "metadata": {},
     "output_type": "execute_result"
    }
   ],
   "source": [
    "df_new.head()"
   ]
  },
  {
   "cell_type": "code",
   "execution_count": 35,
   "metadata": {},
   "outputs": [],
   "source": [
    "SSD = np.sum((df_new[\"prediction\"]- df_new[\"Total Spend\"])**2)"
   ]
  },
  {
   "cell_type": "code",
   "execution_count": 36,
   "metadata": {},
   "outputs": [
    {
     "data": {
      "text/plain": [
       "1517733985.340816"
      ]
     },
     "execution_count": 36,
     "metadata": {},
     "output_type": "execute_result"
    }
   ],
   "source": [
    "SSD"
   ]
  },
  {
   "cell_type": "code",
   "execution_count": 37,
   "metadata": {},
   "outputs": [],
   "source": [
    "RSE = np.sqrt(SSD/len(df_new)- len(feature_cols)-1)"
   ]
  },
  {
   "cell_type": "code",
   "execution_count": 38,
   "metadata": {},
   "outputs": [
    {
     "data": {
      "text/plain": [
       "801.5947080211582"
      ]
     },
     "execution_count": 38,
     "metadata": {},
     "output_type": "execute_result"
    }
   ],
   "source": [
    "RSE"
   ]
  },
  {
   "cell_type": "code",
   "execution_count": 39,
   "metadata": {},
   "outputs": [],
   "source": [
    "sales_mean= np.mean(df_new[\"Total Spend\"])"
   ]
  },
  {
   "cell_type": "code",
   "execution_count": 40,
   "metadata": {},
   "outputs": [
    {
     "data": {
      "text/plain": [
       "6163.176415976714"
      ]
     },
     "execution_count": 40,
     "metadata": {},
     "output_type": "execute_result"
    }
   ],
   "source": [
    "sales_mean"
   ]
  },
  {
   "cell_type": "code",
   "execution_count": 41,
   "metadata": {},
   "outputs": [],
   "source": [
    "error= RSE/sales_mean"
   ]
  },
  {
   "cell_type": "code",
   "execution_count": 43,
   "metadata": {},
   "outputs": [
    {
     "data": {
      "text/plain": [
       "13.006194434791704"
      ]
     },
     "execution_count": 43,
     "metadata": {},
     "output_type": "execute_result"
    }
   ],
   "source": [
    "error*100 #EL porcentaje de error"
   ]
  },
  {
   "cell_type": "markdown",
   "metadata": {},
   "source": [
    "## Transformación de Variables para conseguir una relación no lineal"
   ]
  },
  {
   "cell_type": "code",
   "execution_count": 1,
   "metadata": {},
   "outputs": [],
   "source": [
    "import pandas as pd"
   ]
  },
  {
   "cell_type": "code",
   "execution_count": 2,
   "metadata": {},
   "outputs": [],
   "source": [
    "data_auto = pd.read_csv(\"../datasets/auto/auto-mpg.csv\")"
   ]
  },
  {
   "cell_type": "code",
   "execution_count": 3,
   "metadata": {},
   "outputs": [
    {
     "data": {
      "text/html": [
       "<div>\n",
       "<style scoped>\n",
       "    .dataframe tbody tr th:only-of-type {\n",
       "        vertical-align: middle;\n",
       "    }\n",
       "\n",
       "    .dataframe tbody tr th {\n",
       "        vertical-align: top;\n",
       "    }\n",
       "\n",
       "    .dataframe thead th {\n",
       "        text-align: right;\n",
       "    }\n",
       "</style>\n",
       "<table border=\"1\" class=\"dataframe\">\n",
       "  <thead>\n",
       "    <tr style=\"text-align: right;\">\n",
       "      <th></th>\n",
       "      <th>mpg</th>\n",
       "      <th>cylinders</th>\n",
       "      <th>displacement</th>\n",
       "      <th>horsepower</th>\n",
       "      <th>weight</th>\n",
       "      <th>acceleration</th>\n",
       "      <th>model year</th>\n",
       "      <th>origin</th>\n",
       "      <th>car name</th>\n",
       "    </tr>\n",
       "  </thead>\n",
       "  <tbody>\n",
       "    <tr>\n",
       "      <th>0</th>\n",
       "      <td>18.0</td>\n",
       "      <td>8</td>\n",
       "      <td>307.0</td>\n",
       "      <td>130.0</td>\n",
       "      <td>3504</td>\n",
       "      <td>12.0</td>\n",
       "      <td>70</td>\n",
       "      <td>1</td>\n",
       "      <td>chevrolet chevelle malibu</td>\n",
       "    </tr>\n",
       "    <tr>\n",
       "      <th>1</th>\n",
       "      <td>15.0</td>\n",
       "      <td>8</td>\n",
       "      <td>350.0</td>\n",
       "      <td>165.0</td>\n",
       "      <td>3693</td>\n",
       "      <td>11.5</td>\n",
       "      <td>70</td>\n",
       "      <td>1</td>\n",
       "      <td>buick skylark 320</td>\n",
       "    </tr>\n",
       "    <tr>\n",
       "      <th>2</th>\n",
       "      <td>18.0</td>\n",
       "      <td>8</td>\n",
       "      <td>318.0</td>\n",
       "      <td>150.0</td>\n",
       "      <td>3436</td>\n",
       "      <td>11.0</td>\n",
       "      <td>70</td>\n",
       "      <td>1</td>\n",
       "      <td>plymouth satellite</td>\n",
       "    </tr>\n",
       "    <tr>\n",
       "      <th>3</th>\n",
       "      <td>16.0</td>\n",
       "      <td>8</td>\n",
       "      <td>304.0</td>\n",
       "      <td>150.0</td>\n",
       "      <td>3433</td>\n",
       "      <td>12.0</td>\n",
       "      <td>70</td>\n",
       "      <td>1</td>\n",
       "      <td>amc rebel sst</td>\n",
       "    </tr>\n",
       "    <tr>\n",
       "      <th>4</th>\n",
       "      <td>17.0</td>\n",
       "      <td>8</td>\n",
       "      <td>302.0</td>\n",
       "      <td>140.0</td>\n",
       "      <td>3449</td>\n",
       "      <td>10.5</td>\n",
       "      <td>70</td>\n",
       "      <td>1</td>\n",
       "      <td>ford torino</td>\n",
       "    </tr>\n",
       "  </tbody>\n",
       "</table>\n",
       "</div>"
      ],
      "text/plain": [
       "    mpg  cylinders  displacement  horsepower  weight  acceleration  \\\n",
       "0  18.0          8         307.0       130.0    3504          12.0   \n",
       "1  15.0          8         350.0       165.0    3693          11.5   \n",
       "2  18.0          8         318.0       150.0    3436          11.0   \n",
       "3  16.0          8         304.0       150.0    3433          12.0   \n",
       "4  17.0          8         302.0       140.0    3449          10.5   \n",
       "\n",
       "   model year  origin                   car name  \n",
       "0          70       1  chevrolet chevelle malibu  \n",
       "1          70       1          buick skylark 320  \n",
       "2          70       1         plymouth satellite  \n",
       "3          70       1              amc rebel sst  \n",
       "4          70       1                ford torino  "
      ]
     },
     "execution_count": 3,
     "metadata": {},
     "output_type": "execute_result"
    }
   ],
   "source": [
    "data_auto.head()"
   ]
  },
  {
   "cell_type": "code",
   "execution_count": 4,
   "metadata": {},
   "outputs": [
    {
     "data": {
      "text/plain": [
       "(406, 9)"
      ]
     },
     "execution_count": 4,
     "metadata": {},
     "output_type": "execute_result"
    }
   ],
   "source": [
    "data_auto.shape"
   ]
  },
  {
   "cell_type": "code",
   "execution_count": 5,
   "metadata": {},
   "outputs": [],
   "source": [
    "import matplotlib.pyplot as plt"
   ]
  },
  {
   "cell_type": "code",
   "execution_count": 8,
   "metadata": {},
   "outputs": [
    {
     "data": {
      "text/plain": [
       "Text(0.5, 1.0, 'CV vs MPG')"
      ]
     },
     "execution_count": 8,
     "metadata": {},
     "output_type": "execute_result"
    },
    {
     "data": {
      "image/png": "[encoded data removed]",
      "text/plain": [
       "<Figure size 432x288 with 1 Axes>"
      ]
     },
     "metadata": {
      "needs_background": "light"
     },
     "output_type": "display_data"
    }
   ],
   "source": [
    "%matplotlib inline\n",
    "data_auto[\"mpg\"] = data_auto[\"mpg\"].dropna()\n",
    "data_auto[\"horsepower\"] = data_auto[\"horsepower\"].dropna()#Para eliminar donde no hay valor\n",
    "plt.plot(data_auto[\"horsepower\"],data_auto[\"mpg\"],\"ro\")\n",
    "plt.xlabel(\"Caballos de Fuerza\")\n",
    "plt.ylabel(\"Consumo (millas por galeon)\")\n",
    "plt.title(\"CV vs MPG\")"
   ]
  },
  {
   "cell_type": "markdown",
   "metadata": {},
   "source": [
    "## Modelo de regresión Lineal\n",
    "* mpg = a+b *horsepower"
   ]
  },
  {
   "cell_type": "code",
   "execution_count": 20,
   "metadata": {},
   "outputs": [],
   "source": [
    "X = data_auto[\"horsepower\"].fillna(data_auto[\"horsepower\"].mean())\n",
    "Y = data_auto[\"mpg\"].fillna(data_auto[\"mpg\"].mean())\n",
    "X_data = X[:, np.newaxis]"
   ]
  },
  {
   "cell_type": "code",
   "execution_count": 16,
   "metadata": {},
   "outputs": [
    {
     "data": {
      "text/plain": [
       "LinearRegression(copy_X=True, fit_intercept=True, n_jobs=None,\n",
       "         normalize=False)"
      ]
     },
     "execution_count": 16,
     "metadata": {},
     "output_type": "execute_result"
    }
   ],
   "source": [
    "lm = LinearRegression()\n",
    "lm.fit(X[:, np.newaxis],Y) #Cuando se pasa una sola fila de un dataframe se utiliza esto para que el paquete lo acepte "
   ]
  },
  {
   "cell_type": "code",
   "execution_count": 17,
   "metadata": {},
   "outputs": [
    {
     "data": {
      "text/plain": [
       "pandas.core.series.Series"
      ]
     },
     "execution_count": 17,
     "metadata": {},
     "output_type": "execute_result"
    }
   ],
   "source": [
    "type(X)"
   ]
  },
  {
   "cell_type": "code",
   "execution_count": 18,
   "metadata": {},
   "outputs": [
    {
     "data": {
      "text/plain": [
       "numpy.ndarray"
      ]
     },
     "execution_count": 18,
     "metadata": {},
     "output_type": "execute_result"
    }
   ],
   "source": [
    "type(X[:,np.newaxis])"
   ]
  },
  {
   "cell_type": "code",
   "execution_count": 19,
   "metadata": {},
   "outputs": [
    {
     "data": {
      "text/plain": [
       "[<matplotlib.lines.Line2D at 0x1a64254c550>]"
      ]
     },
     "execution_count": 19,
     "metadata": {},
     "output_type": "execute_result"
    },
    {
     "data": {
      "image/png": "[encoded data removed]",
      "text/plain": [
       "<Figure size 432x288 with 1 Axes>"
      ]
     },
     "metadata": {
      "needs_background": "light"
     },
     "output_type": "display_data"
    }
   ],
   "source": [
    "%matplotlib inline\n",
    "plt.plot(X,Y,\"ro\")\n",
    "plt.plot(X,lm.predict(X[:,np.newaxis]),color=\"blue\")"
   ]
  },
  {
   "cell_type": "code",
   "execution_count": 21,
   "metadata": {},
   "outputs": [
    {
     "data": {
      "text/plain": [
       "0.574653340645025"
      ]
     },
     "execution_count": 21,
     "metadata": {},
     "output_type": "execute_result"
    }
   ],
   "source": [
    "lm.score(X_data,Y)"
   ]
  },
  {
   "cell_type": "code",
   "execution_count": 22,
   "metadata": {},
   "outputs": [],
   "source": [
    "SSD = np.sum((Y - lm.predict(X_data))**2)"
   ]
  },
  {
   "cell_type": "code",
   "execution_count": 23,
   "metadata": {},
   "outputs": [
    {
     "data": {
      "text/plain": [
       "10315.75196006092"
      ]
     },
     "execution_count": 23,
     "metadata": {},
     "output_type": "execute_result"
    }
   ],
   "source": [
    "SSD"
   ]
  },
  {
   "cell_type": "code",
   "execution_count": 24,
   "metadata": {},
   "outputs": [],
   "source": [
    "RSE = np.sqrt(SSD/(len(X_data)-1))"
   ]
  },
  {
   "cell_type": "code",
   "execution_count": 25,
   "metadata": {},
   "outputs": [
    {
     "data": {
      "text/plain": [
       "5.046879480825511"
      ]
     },
     "execution_count": 25,
     "metadata": {},
     "output_type": "execute_result"
    }
   ],
   "source": [
    "RSE"
   ]
  },
  {
   "cell_type": "code",
   "execution_count": 26,
   "metadata": {},
   "outputs": [
    {
     "data": {
      "text/plain": [
       "21.46277336163346"
      ]
     },
     "execution_count": 26,
     "metadata": {},
     "output_type": "execute_result"
    }
   ],
   "source": [
    "y_mean = np.mean(Y)\n",
    "error = (RSE/y_mean)*100\n",
    "error"
   ]
  },
  {
   "cell_type": "markdown",
   "metadata": {},
   "source": [
    "## Tratando de mejorar con Modelo Cuadratico\n",
    "* mpg = a + b*horsepower^2"
   ]
  },
  {
   "cell_type": "code",
   "execution_count": 27,
   "metadata": {},
   "outputs": [],
   "source": [
    "x_data = X**2\n",
    "x_data = x_data[:, np.newaxis]"
   ]
  },
  {
   "cell_type": "code",
   "execution_count": 28,
   "metadata": {},
   "outputs": [
    {
     "data": {
      "text/plain": [
       "LinearRegression(copy_X=True, fit_intercept=True, n_jobs=None,\n",
       "         normalize=False)"
      ]
     },
     "execution_count": 28,
     "metadata": {},
     "output_type": "execute_result"
    }
   ],
   "source": [
    "lm = LinearRegression()\n",
    "lm.fit(x_data,Y)"
   ]
  },
  {
   "cell_type": "code",
   "execution_count": 29,
   "metadata": {},
   "outputs": [
    {
     "data": {
      "text/plain": [
       "0.4849887034823205"
      ]
     },
     "execution_count": 29,
     "metadata": {},
     "output_type": "execute_result"
    }
   ],
   "source": [
    "lm.score(x_data, Y)"
   ]
  },
  {
   "cell_type": "code",
   "execution_count": 31,
   "metadata": {},
   "outputs": [
    {
     "data": {
      "text/plain": [
       "(12490.350340501926, 5.553410772769817, 23.51457286432162, 23.6168898529981)"
      ]
     },
     "execution_count": 31,
     "metadata": {},
     "output_type": "execute_result"
    }
   ],
   "source": [
    "SSD = np.sum((Y-lm.predict(x_data))**2)\n",
    "RSE = np.sqrt(SSD/(len(x_data)-1))\n",
    "y_mean = np.mean(Y)\n",
    "error = RSE/y_mean\n",
    "SSD , RSE, y_mean, error*100"
   ]
  },
  {
   "cell_type": "markdown",
   "metadata": {},
   "source": [
    "## Modelo de Regresión Lineal y Cuadratico \n",
    "* mpg= a+b*horsepower +c*horsepower^2"
   ]
  },
  {
   "cell_type": "code",
   "execution_count": 32,
   "metadata": {},
   "outputs": [],
   "source": [
    "from sklearn.preprocessing import PolynomialFeatures\n",
    "from sklearn import linear_model"
   ]
  },
  {
   "cell_type": "code",
   "execution_count": 33,
   "metadata": {},
   "outputs": [],
   "source": [
    "poly = PolynomialFeatures(degree=2)"
   ]
  },
  {
   "cell_type": "code",
   "execution_count": 34,
   "metadata": {},
   "outputs": [],
   "source": [
    "x_data = poly.fit_transform(X[:,np.newaxis])"
   ]
  },
  {
   "cell_type": "code",
   "execution_count": 35,
   "metadata": {},
   "outputs": [
    {
     "data": {
      "text/plain": [
       "LinearRegression(copy_X=True, fit_intercept=True, n_jobs=None,\n",
       "         normalize=False)"
      ]
     },
     "execution_count": 35,
     "metadata": {},
     "output_type": "execute_result"
    }
   ],
   "source": [
    "lm = linear_model.LinearRegression()\n",
    "lm.fit(x_data,Y)"
   ]
  },
  {
   "cell_type": "code",
   "execution_count": 39,
   "metadata": {},
   "outputs": [
    {
     "data": {
      "text/plain": [
       "0.6439066584257469"
      ]
     },
     "execution_count": 39,
     "metadata": {},
     "output_type": "execute_result"
    }
   ],
   "source": [
    "lm.score(x_data,Y)"
   ]
  },
  {
   "cell_type": "code",
   "execution_count": 40,
   "metadata": {},
   "outputs": [
    {
     "data": {
      "text/plain": [
       "55.02619244708036"
      ]
     },
     "execution_count": 40,
     "metadata": {},
     "output_type": "execute_result"
    }
   ],
   "source": [
    "lm.intercept_"
   ]
  },
  {
   "cell_type": "code",
   "execution_count": 41,
   "metadata": {},
   "outputs": [
    {
     "data": {
      "text/plain": [
       "array([ 0.        , -0.43404318,  0.00112615])"
      ]
     },
     "execution_count": 41,
     "metadata": {},
     "output_type": "execute_result"
    }
   ],
   "source": [
    "lm.coef_"
   ]
  },
  {
   "cell_type": "markdown",
   "metadata": {},
   "source": [
    "### Modelo Obtenido \n",
    "* mpg= 55.02619244708036 -0.43404318*hp +0.00112615*hp^2"
   ]
  },
  {
   "cell_type": "code",
   "execution_count": 43,
   "metadata": {},
   "outputs": [
    {
     "name": "stdout",
     "output_type": "stream",
     "text": [
      "0.6444678885560744\n",
      "0.6467674189704502\n",
      "0.6547512489366876\n"
     ]
    }
   ],
   "source": [
    "for d in range(3,6):\n",
    "    poly = PolynomialFeatures(degree=d)\n",
    "    x_data = poly.fit_transform(X[:,np.newaxis])\n",
    "    lm = linear_model.LinearRegression()\n",
    "    lm.fit(x_data,Y)\n",
    "    print(lm.score(x_data,Y))"
   ]
  },
  {
   "cell_type": "code",
   "execution_count": null,
   "metadata": {},
   "outputs": [],
   "source": []
  }
 ],
 "metadata": {
  "kernelspec": {
   "display_name": "Python 3",
   "language": "python",
   "name": "python3"
  },
  "language_info": {
   "codemirror_mode": {
    "name": "ipython",
    "version": 3
   },
   "file_extension": ".py",
   "mimetype": "text/x-python",
   "name": "python",
   "nbconvert_exporter": "python",
   "pygments_lexer": "ipython3",
   "version": "3.7.1"
  }
 },
 "nbformat": 4,
 "nbformat_minor": 2
}
